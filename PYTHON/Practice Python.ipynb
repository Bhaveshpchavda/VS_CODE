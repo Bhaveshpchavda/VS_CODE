{
 "cells": [
  {
   "cell_type": "code",
   "execution_count": 1,
   "id": "9abb9e17",
   "metadata": {},
   "outputs": [
    {
     "name": "stdout",
     "output_type": "stream",
     "text": [
      "HEllo WorlD\n"
     ]
    }
   ],
   "source": [
    "print(\"HEllo WorlD\")"
   ]
  },
  {
   "cell_type": "code",
   "execution_count": null,
   "id": "067d68c3",
   "metadata": {},
   "outputs": [],
   "source": []
  },
  {
   "cell_type": "code",
   "execution_count": 2,
   "id": "befbcec5",
   "metadata": {},
   "outputs": [
    {
     "name": "stdout",
     "output_type": "stream",
     "text": [
      "HeLLo WorlD\n"
     ]
    }
   ],
   "source": [
    "i=print(\"HeLLo WorlD\")"
   ]
  },
  {
   "cell_type": "code",
   "execution_count": 5,
   "id": "7b351580",
   "metadata": {},
   "outputs": [],
   "source": [
    "i=\"Hello WoRld\""
   ]
  },
  {
   "cell_type": "code",
   "execution_count": 6,
   "id": "e8b71422",
   "metadata": {},
   "outputs": [
    {
     "data": {
      "text/plain": [
       "'Hello WoRld'"
      ]
     },
     "execution_count": 6,
     "metadata": {},
     "output_type": "execute_result"
    }
   ],
   "source": [
    "i\n"
   ]
  },
  {
   "cell_type": "code",
   "execution_count": 7,
   "id": "e74e3389",
   "metadata": {},
   "outputs": [],
   "source": [
    "import numpy as np"
   ]
  },
  {
   "cell_type": "code",
   "execution_count": 10,
   "id": "8a6f67f6",
   "metadata": {},
   "outputs": [],
   "source": [
    "myarr = np.array([3,36,6,7])"
   ]
  },
  {
   "cell_type": "code",
   "execution_count": 11,
   "id": "50ac2c0f",
   "metadata": {},
   "outputs": [
    {
     "data": {
      "text/plain": [
       "array([ 3, 36,  6,  7])"
      ]
     },
     "execution_count": 11,
     "metadata": {},
     "output_type": "execute_result"
    }
   ],
   "source": [
    "myarr"
   ]
  },
  {
   "cell_type": "code",
   "execution_count": null,
   "id": "d76bbde3",
   "metadata": {},
   "outputs": [],
   "source": []
  }
 ],
 "metadata": {
  "kernelspec": {
   "display_name": "Python 3 (ipykernel)",
   "language": "python",
   "name": "python3"
  },
  "language_info": {
   "codemirror_mode": {
    "name": "ipython",
    "version": 3
   },
   "file_extension": ".py",
   "mimetype": "text/x-python",
   "name": "python",
   "nbconvert_exporter": "python",
   "pygments_lexer": "ipython3",
   "version": "3.11.1"
  }
 },
 "nbformat": 4,
 "nbformat_minor": 5
}
