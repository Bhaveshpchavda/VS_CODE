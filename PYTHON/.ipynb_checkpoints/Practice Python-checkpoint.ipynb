{
 "cells": [
  {
   "cell_type": "code",
   "execution_count": 1,
   "id": "744459ad",
   "metadata": {},
   "outputs": [
    {
     "name": "stdout",
     "output_type": "stream",
     "text": [
      "HEllo WorlD\n"
     ]
    }
   ],
   "source": [
    "print(\"HEllo WorlD\")"
   ]
  },
  {
   "cell_type": "code",
   "execution_count": null,
   "id": "55a67b14",
   "metadata": {},
   "outputs": [],
   "source": []
  },
  {
   "cell_type": "code",
   "execution_count": 2,
   "id": "2a1dc778",
   "metadata": {},
   "outputs": [
    {
     "name": "stdout",
     "output_type": "stream",
     "text": [
      "HeLLo WorlD\n"
     ]
    }
   ],
   "source": [
    "i=print(\"HeLLo WorlD\")"
   ]
  },
  {
   "cell_type": "code",
   "execution_count": 5,
   "id": "39059a06",
   "metadata": {},
   "outputs": [],
   "source": [
    "i=\"Hello WoRld\""
   ]
  },
  {
   "cell_type": "code",
   "execution_count": 6,
   "id": "524e9cb3",
   "metadata": {},
   "outputs": [
    {
     "data": {
      "text/plain": [
       "'Hello WoRld'"
      ]
     },
     "execution_count": 6,
     "metadata": {},
     "output_type": "execute_result"
    }
   ],
   "source": [
    "i\n"
   ]
  },
  {
   "cell_type": "code",
   "execution_count": null,
   "id": "4ecccceb",
   "metadata": {},
   "outputs": [],
   "source": []
  }
 ],
 "metadata": {
  "kernelspec": {
   "display_name": "Python 3 (ipykernel)",
   "language": "python",
   "name": "python3"
  },
  "language_info": {
   "codemirror_mode": {
    "name": "ipython",
    "version": 3
   },
   "file_extension": ".py",
   "mimetype": "text/x-python",
   "name": "python",
   "nbconvert_exporter": "python",
   "pygments_lexer": "ipython3",
   "version": "3.11.1"
  }
 },
 "nbformat": 4,
 "nbformat_minor": 5
}
